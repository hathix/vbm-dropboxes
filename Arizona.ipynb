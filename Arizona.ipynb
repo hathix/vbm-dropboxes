{
 "cells": [
  {
   "cell_type": "code",
   "execution_count": 2,
   "metadata": {},
   "outputs": [
    {
     "name": "stderr",
     "output_type": "stream",
     "text": [
      "Package `lxml` missing. Pretty print will be disabled\n"
     ]
    },
    {
     "ename": "NameError",
     "evalue": "name 'file' is not defined",
     "output_type": "error",
     "traceback": [
      "\u001b[0;31m---------------------------------------------------------------------------\u001b[0m",
      "\u001b[0;31mNameError\u001b[0m                                 Traceback (most recent call last)",
      "\u001b[0;32m<ipython-input-2-342bbcbd078e>\u001b[0m in \u001b[0;36m<module>\u001b[0;34m\u001b[0m\n\u001b[1;32m      1\u001b[0m \u001b[0;31m# Read from\u001b[0m\u001b[0;34m\u001b[0m\u001b[0;34m\u001b[0m\u001b[0;34m\u001b[0m\u001b[0m\n\u001b[1;32m      2\u001b[0m \u001b[0;32mfrom\u001b[0m \u001b[0mfastkml\u001b[0m \u001b[0;32mimport\u001b[0m  \u001b[0mkml\u001b[0m\u001b[0;34m\u001b[0m\u001b[0;34m\u001b[0m\u001b[0m\n\u001b[0;32m----> 3\u001b[0;31m \u001b[0mdoc\u001b[0m \u001b[0;34m=\u001b[0m \u001b[0mfile\u001b[0m\u001b[0;34m(\u001b[0m\u001b[0;34m\"arizona-ballot-dropboxes.kmz\"\u001b[0m\u001b[0;34m)\u001b[0m\u001b[0;34m.\u001b[0m\u001b[0mread\u001b[0m\u001b[0;34m(\u001b[0m\u001b[0;34m)\u001b[0m\u001b[0;34m\u001b[0m\u001b[0;34m\u001b[0m\u001b[0m\n\u001b[0m\u001b[1;32m      4\u001b[0m \u001b[0mk\u001b[0m \u001b[0;34m=\u001b[0m \u001b[0mkml\u001b[0m\u001b[0;34m.\u001b[0m\u001b[0mKML\u001b[0m\u001b[0;34m(\u001b[0m\u001b[0;34m)\u001b[0m\u001b[0;34m\u001b[0m\u001b[0;34m\u001b[0m\u001b[0m\n\u001b[1;32m      5\u001b[0m \u001b[0mk\u001b[0m\u001b[0;34m.\u001b[0m\u001b[0mfrom_string\u001b[0m\u001b[0;34m(\u001b[0m\u001b[0mdoc\u001b[0m\u001b[0;34m)\u001b[0m\u001b[0;34m\u001b[0m\u001b[0;34m\u001b[0m\u001b[0m\n",
      "\u001b[0;31mNameError\u001b[0m: name 'file' is not defined"
     ]
    }
   ],
   "source": [
    "# Read from \n",
    "from fastkml import  kml\n",
    "doc = file(\"arizona-ballot-dropboxes.kmz\").read()\n",
    "k = kml.KML()\n",
    "k.from_string(doc)\n",
    "len(k.features())\n",
    "\n",
    "\n",
    "list(k.features())"
   ]
  },
  {
   "cell_type": "code",
   "execution_count": 3,
   "metadata": {},
   "outputs": [],
   "source": [
    "from fastkml import kml"
   ]
  },
  {
   "cell_type": "code",
   "execution_count": 6,
   "metadata": {},
   "outputs": [
    {
     "name": "stderr",
     "output_type": "stream",
     "text": [
      "No geometries found\n",
      "No geometries found\n",
      "No geometries found\n",
      "No geometries found\n",
      "No geometries found\n",
      "No geometries found\n",
      "No geometries found\n",
      "No geometries found\n",
      "No geometries found\n",
      "No geometries found\n",
      "No geometries found\n",
      "No geometries found\n",
      "No geometries found\n",
      "No geometries found\n",
      "No geometries found\n",
      "No geometries found\n",
      "No geometries found\n",
      "No geometries found\n",
      "No geometries found\n",
      "No geometries found\n",
      "No geometries found\n",
      "No geometries found\n",
      "No geometries found\n",
      "No geometries found\n",
      "No geometries found\n",
      "No geometries found\n",
      "No geometries found\n",
      "No geometries found\n",
      "No geometries found\n",
      "No geometries found\n",
      "No geometries found\n",
      "No geometries found\n",
      "No geometries found\n",
      "No geometries found\n",
      "No geometries found\n",
      "No geometries found\n",
      "No geometries found\n",
      "No geometries found\n",
      "No geometries found\n",
      "No geometries found\n",
      "No geometries found\n",
      "No geometries found\n",
      "No geometries found\n",
      "No geometries found\n",
      "No geometries found\n",
      "No geometries found\n",
      "No geometries found\n",
      "No geometries found\n",
      "No geometries found\n",
      "No geometries found\n",
      "No geometries found\n",
      "No geometries found\n",
      "No geometries found\n",
      "No geometries found\n",
      "No geometries found\n",
      "No geometries found\n",
      "No geometries found\n",
      "No geometries found\n",
      "No geometries found\n",
      "No geometries found\n",
      "No geometries found\n",
      "No geometries found\n"
     ]
    }
   ],
   "source": [
    "k = kml.KML()\n",
    "\n",
    "with open(\"AZ-Ballots.kml\", \"r\") as f:\n",
    "    k = k.from_string(f.read())"
   ]
  },
  {
   "cell_type": "code",
   "execution_count": null,
   "metadata": {},
   "outputs": [],
   "source": []
  },
  {
   "cell_type": "code",
   "execution_count": null,
   "metadata": {},
   "outputs": [],
   "source": []
  },
  {
   "cell_type": "code",
   "execution_count": null,
   "metadata": {},
   "outputs": [],
   "source": []
  },
  {
   "cell_type": "code",
   "execution_count": null,
   "metadata": {},
   "outputs": [],
   "source": []
  }
 ],
 "metadata": {
  "kernelspec": {
   "display_name": "Python 3",
   "language": "python",
   "name": "python3"
  },
  "language_info": {
   "codemirror_mode": {
    "name": "ipython",
    "version": 3
   },
   "file_extension": ".py",
   "mimetype": "text/x-python",
   "name": "python",
   "nbconvert_exporter": "python",
   "pygments_lexer": "ipython3",
   "version": "3.7.6"
  }
 },
 "nbformat": 4,
 "nbformat_minor": 4
}
