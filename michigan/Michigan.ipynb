{
 "cells": [
  {
   "cell_type": "code",
   "execution_count": 1,
   "metadata": {},
   "outputs": [],
   "source": [
    "import csv\n",
    "\n",
    "# Read the list of counties \n",
    "counties = []\n",
    "\n",
    "with open('michigan-counties.txt', 'r') as county_file:\n",
    "    counties = [line.strip() for line in county_file.readlines()]\n"
   ]
  },
  {
   "cell_type": "code",
   "execution_count": 2,
   "metadata": {},
   "outputs": [
    {
     "data": {
      "text/plain": [
       "['Alcona',\n",
       " 'Alger',\n",
       " 'Allegan',\n",
       " 'Alpena',\n",
       " 'Antrim',\n",
       " 'Arenac',\n",
       " 'Baraga',\n",
       " 'Barry',\n",
       " 'Bay',\n",
       " 'Benzie',\n",
       " 'Berrien',\n",
       " 'Branch',\n",
       " 'Calhoun',\n",
       " 'Cass',\n",
       " 'Charlevoix',\n",
       " 'Cheboygan',\n",
       " 'Chippewa',\n",
       " 'Clare',\n",
       " 'Clinton',\n",
       " 'Crawford',\n",
       " 'Delta',\n",
       " 'Dickinson',\n",
       " 'Eaton',\n",
       " 'Emmet',\n",
       " 'Genesee',\n",
       " 'Gladwin',\n",
       " 'Gogebic',\n",
       " 'Grand Traverse',\n",
       " 'Gratiot',\n",
       " 'Hillsdale',\n",
       " 'Houghton',\n",
       " 'Huron',\n",
       " 'Ingham',\n",
       " 'Ionia',\n",
       " 'Iosco',\n",
       " 'Iron',\n",
       " 'Isabella',\n",
       " 'Jackson',\n",
       " 'Kalamazoo',\n",
       " 'Kalkaska',\n",
       " 'Kent',\n",
       " 'Keweenaw',\n",
       " 'Lake',\n",
       " 'Lapeer',\n",
       " 'Leelanau',\n",
       " 'Lenawee',\n",
       " 'Livingston',\n",
       " 'Luce',\n",
       " 'Mackinac',\n",
       " 'Macomb',\n",
       " 'Manistee',\n",
       " 'Marquette',\n",
       " 'Mason',\n",
       " 'Mecosta',\n",
       " 'Menominee',\n",
       " 'Midland',\n",
       " 'Missaukee',\n",
       " 'Monroe',\n",
       " 'Montcalm',\n",
       " 'Montmorency',\n",
       " 'Muskegon',\n",
       " 'Newaygo',\n",
       " 'Oakland',\n",
       " 'Oceana',\n",
       " 'Ogemaw',\n",
       " 'Ontonagon',\n",
       " 'Osceola',\n",
       " 'Oscoda',\n",
       " 'Otsego',\n",
       " 'Ottawa',\n",
       " 'Presque Isle',\n",
       " 'Roscommon',\n",
       " 'Saginaw',\n",
       " 'St. Clair',\n",
       " 'St. Joseph',\n",
       " 'Sanilac',\n",
       " 'Schoolcraft',\n",
       " 'Shiawassee',\n",
       " 'Tuscola',\n",
       " 'Van Buren',\n",
       " 'Washtenaw',\n",
       " 'Wayne',\n",
       " 'Wexford']"
      ]
     },
     "execution_count": 2,
     "metadata": {},
     "output_type": "execute_result"
    }
   ],
   "source": [
    "counties"
   ]
  },
  {
   "cell_type": "code",
   "execution_count": 15,
   "metadata": {},
   "outputs": [
    {
     "name": "stdout",
     "output_type": "stream",
     "text": [
      "<ul id=\"jurisdiction-list\"></ul>\n"
     ]
    }
   ],
   "source": [
    "# Each county has a search page where you can see the list of townships.\n",
    "# Each township has one or more dropboxes.\n",
    "# So let's compile a list of all townships.\n",
    "\n",
    "import requests\n",
    "from bs4 import BeautifulSoup\n",
    "\n",
    "\n",
    "for county in counties[:1]:\n",
    "    # Find the page for the county\n",
    "    # (note: some county names have spaces so replace with +'es)\n",
    "    # e.g. https://www.michigandropbox.com/jurisdictions.html?county=St.+Clair\n",
    "    url = 'https://www.michigandropbox.com/jurisdictions.html?county={0}'.format(\n",
    "        county.replace(\" \", \"+\"))\n",
    "#     page = requests.get(url)\n",
    "#     soup = BeautifulSoup(page.text, 'html.parser')\n",
    "\n",
    "#     # extract links to each township's dropboxes\n",
    "#     township_list = soup.find(id=\"jurisdiction-list\")\n",
    "#     print(township_list)\n",
    "\n",
    "    # LOL jk the list of ballots is printed dynamically ugh :(\n",
    "    # so html scraping fails"
   ]
  },
  {
   "cell_type": "code",
   "execution_count": null,
   "metadata": {},
   "outputs": [],
   "source": []
  },
  {
   "cell_type": "code",
   "execution_count": null,
   "metadata": {},
   "outputs": [],
   "source": []
  },
  {
   "cell_type": "code",
   "execution_count": null,
   "metadata": {},
   "outputs": [],
   "source": []
  }
 ],
 "metadata": {
  "kernelspec": {
   "display_name": "Python 3",
   "language": "python",
   "name": "python3"
  },
  "language_info": {
   "codemirror_mode": {
    "name": "ipython",
    "version": 3
   },
   "file_extension": ".py",
   "mimetype": "text/x-python",
   "name": "python",
   "nbconvert_exporter": "python",
   "pygments_lexer": "ipython3",
   "version": "3.7.6"
  }
 },
 "nbformat": 4,
 "nbformat_minor": 4
}
